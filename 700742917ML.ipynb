{
  "nbformat": 4,
  "nbformat_minor": 0,
  "metadata": {
    "colab": {
      "provenance": []
    },
    "kernelspec": {
      "name": "python3",
      "display_name": "Python 3"
    },
    "language_info": {
      "name": "python"
    }
  },
  "cells": [
    {
      "cell_type": "code",
      "execution_count": 11,
      "metadata": {
        "colab": {
          "base_uri": "https://localhost:8080/"
        },
        "id": "SMMTUTNckJ0j",
        "outputId": "60d10275-8170-4c8c-9432-b1879e8f4562"
      },
      "outputs": [
        {
          "output_type": "stream",
          "name": "stdout",
          "text": [
            "[[ 5 10 20  7  5]\n",
            " [10  2  8 11 10]\n",
            " [14 14  6 10 17]]\n",
            "Array shape: (3, 5)\n",
            "Modified array:\n",
            " [[ 5 10  0  7  5]\n",
            " [10  2  8  0 10]\n",
            " [14 14  6 10  0]]\n"
          ]
        }
      ],
      "source": [
        "#1.NUMPY\n",
        "#a.Using NumPy create random vector of size 15 having only Integers in the range 1-20\n",
        "import numpy as np\n",
        "New_vector = np.random.randint(low=1, high=21, size=15)\n",
        "arrTest = New_vector.reshape((3, 5))\n",
        "print(arrTest)\n",
        "print(\"Array shape:\", arrTest.shape)\n",
        "arrTest[np.arange(arrTest.shape[0]), np.argmax(arrTest, axis=1)] = 0\n",
        "print(\"Modified array:\\n\", arrTest)"
      ]
    },
    {
      "cell_type": "markdown",
      "source": [
        "NAME: SAI NIKITH REDDY YARRAM\n",
        "\n",
        "   700742917\n",
        "\n",
        "\n",
        "\n",
        "GITHUB LINK"
      ],
      "metadata": {
        "id": "0cYlsmtCs2Kt"
      }
    },
    {
      "cell_type": "code",
      "source": [
        "#b.Write a program to compute the eigenvalues and right eigenvectors of a given square array given below:\n",
        "import numpy as np\n",
        "\n",
        "# Define the square array\n",
        "A = np.array([[3, -2], [1, 0]])\n",
        "\n",
        "# Compute the eigenvalues and right eigenvectors\n",
        "eigenvalues, eigenvectors = np.linalg.eig(A)\n",
        "\n",
        "# Print the results\n",
        "print(\"Eigenvalues:\", eigenvalues)\n",
        "print(\"Right eigenvectors:\\n\", eigenvectors)"
      ],
      "metadata": {
        "colab": {
          "base_uri": "https://localhost:8080/"
        },
        "id": "TBfs9toWtEUi",
        "outputId": "692a0b9f-0a14-4f6c-e4e9-2c85258b9e4e"
      },
      "execution_count": 9,
      "outputs": [
        {
          "output_type": "stream",
          "name": "stdout",
          "text": [
            "Eigenvalues: [2. 1.]\n",
            "Right eigenvectors:\n",
            " [[0.89442719 0.70710678]\n",
            " [0.4472136  0.70710678]]\n"
          ]
        }
      ]
    },
    {
      "cell_type": "code",
      "source": [
        "#c. Compute the sum of the diagonal element of a given array.\n",
        "import numpy as np\n",
        "\n",
        "# Define the array\n",
        "input = np.array([[0, 1, 2], [3, 4, 5]])\n",
        "\n",
        "# Compute the sum of the diagonal elements\n",
        "diagonalSum = np.trace(input)\n",
        "\n",
        "# Print the result\n",
        "print(\"Sum of diagonal elements:\", diagonalSum)"
      ],
      "metadata": {
        "colab": {
          "base_uri": "https://localhost:8080/"
        },
        "id": "r_h6F8MzuC30",
        "outputId": "ffef2902-aa31-4520-b999-505e6394c0ac"
      },
      "execution_count": 12,
      "outputs": [
        {
          "output_type": "stream",
          "name": "stdout",
          "text": [
            "Sum of diagonal elements: 4\n"
          ]
        }
      ]
    },
    {
      "cell_type": "code",
      "source": [
        "#d.Write a NumPy program to create a new shape to an array without changing its data\n",
        "import numpy as np\n",
        "\n",
        "# Create a NumPy array\n",
        "arr = np.array([[1, 2], [3, 4], [5, 6]])\n",
        "\n",
        "# Reshape the array to 2x3 shape without changing data\n",
        "new_arr = arr.reshape(2, 3)\n",
        "\n",
        "# Print the original and new array\n",
        "print(\"Original array:\")\n",
        "print(arr)\n",
        "print(\"\\nNew array:\")\n",
        "print(new_arr)"
      ],
      "metadata": {
        "colab": {
          "base_uri": "https://localhost:8080/"
        },
        "id": "ToCUS3cIuMLr",
        "outputId": "1318e628-c1f7-49ef-9189-05c2d4c21850"
      },
      "execution_count": 13,
      "outputs": [
        {
          "output_type": "stream",
          "name": "stdout",
          "text": [
            "Original array:\n",
            "[[1 2]\n",
            " [3 4]\n",
            " [5 6]]\n",
            "\n",
            "New array:\n",
            "[[1 2 3]\n",
            " [4 5 6]]\n"
          ]
        }
      ]
    },
    {
      "cell_type": "code",
      "source": [
        "#2.MATPLOTLIB\n",
        "#a. Write a Python programming to create a below chart of the popularity of programming Languages.\n",
        "\n",
        "import matplotlib.pyplot as plt\n",
        "import numpy as np\n",
        "\n",
        "input = np.array([22.2, 17.6, 8.8, 8, 7.7, 6.7])\n",
        "mylabels = [\"Java\", \"Python\", \"PHP\", \"javaScript\",\"C#\",\"C++\"]\n",
        "\n",
        "plt.pie(input, labels = mylabels, autopct='%1.1f%%')\n",
        "plt.show()"
      ],
      "metadata": {
        "colab": {
          "base_uri": "https://localhost:8080/",
          "height": 406
        },
        "id": "hOTdqovouS-x",
        "outputId": "467c8f90-f464-4017-fd81-ba39f2e17eac"
      },
      "execution_count": 15,
      "outputs": [
        {
          "output_type": "display_data",
          "data": {
            "text/plain": [
              "<Figure size 640x480 with 1 Axes>"
            ],
            "image/png": "[encoded data removed]"
          },
          "metadata": {}
        }
      ]
    }
  ]
}